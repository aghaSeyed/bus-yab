{
 "cells": [
  {
   "cell_type": "code",
   "execution_count": 3,
   "metadata": {},
   "outputs": [],
   "source": [
    "import chromedriver_autoinstaller"
   ]
  },
  {
   "cell_type": "code",
   "execution_count": null,
   "metadata": {},
   "outputs": [],
   "source": [
    "chromedriver_autoinstaller.install()"
   ]
  },
  {
   "cell_type": "code",
   "execution_count": 5,
   "metadata": {},
   "outputs": [],
   "source": [
    "from selenium import webdriver\n",
    "from selenium.webdriver.common.by import By\n",
    "import time"
   ]
  },
  {
   "cell_type": "code",
   "execution_count": 6,
   "metadata": {},
   "outputs": [],
   "source": [
    "driver = webdriver.Chrome()\n",
    "driver.get('https://www.alibaba.ir/bus/AZD-IFN?departing=1402-06-27')\n",
    "\n",
    "seats_link = driver.find_elements(By.XPATH, \"//*[text()=' نقشه صندلی‌ها']\")\n",
    "for seat_link in seats_link:\n",
    "    seat_link.click()\n",
    "\n",
    "time.sleep(1)\n",
    "\n",
    "page_source = driver.page_source\n",
    "\n",
    "driver.quit()"
   ]
  },
  {
   "cell_type": "code",
   "execution_count": 7,
   "metadata": {},
   "outputs": [],
   "source": [
    "from bs4 import BeautifulSoup\n",
    "\n",
    "soup = BeautifulSoup(page_source, 'html.parser')\n"
   ]
  },
  {
   "cell_type": "code",
   "execution_count": 8,
   "metadata": {},
   "outputs": [],
   "source": [
    "cards = soup.select('.available-card:not(.is-disabled)')"
   ]
  },
  {
   "cell_type": "code",
   "execution_count": 12,
   "metadata": {},
   "outputs": [],
   "source": [
    "data = []\n",
    "\n",
    "for card in cards:\n",
    "    company = card.select_one('.available-card__details strong.text-3.text-grays-600').text.strip()\n",
    "    bus_type = card.select_one('.available-card__details span.a-label.is-sm.ml-1.whitespace-nowrap span').text.strip()\n",
    "    hour = card.select_one('.available-card__details strong.text-5').text.strip()\n",
    "    source_terminal = card.select_one('.available-card__details .terminal.truncate').text.strip()\n",
    "    destination_terminal = card.select_one('.available-card__details  .destination-terminal-info div').text.strip()\n",
    "    price = card.select_one('.available-card__action > span > strong').text.strip()\n",
    "    available_seats = card.select_one('.available-card__action > div:last-child > span:first-child').text.strip()\n",
    "    seat_tab_els = card.select('.available-card__details [role=\"tabpanel\"] .chairs > div > div')\n",
    "\n",
    "    seat_rows = []\n",
    "    for seat_tab_el in seat_tab_els:\n",
    "        seat_row = []\n",
    "        seat_row_els = seat_tab_el.select('.chair-cell-bus')\n",
    "        for seat_row_el in seat_row_els:\n",
    "            seat_row.append(seat_row_el.text)\n",
    "        seat_rows.append(seat_row)\n",
    "\n",
    "\n",
    "    cards_data = {\n",
    "        \"company\": company,\n",
    "        \"bus_type\": bus_type,\n",
    "        \"hour\": hour,\n",
    "        \"source_terminal\": source_terminal,\n",
    "        \"destination_terminal\": destination_terminal,\n",
    "        \"price\": price,\n",
    "        \"available_seats\": available_seats,\n",
    "        \"seat_rows\": seat_rows\n",
    "    }\n",
    "    data.append(cards_data)"
   ]
  },
  {
   "cell_type": "code",
   "execution_count": 14,
   "metadata": {},
   "outputs": [
    {
     "name": "stdout",
     "output_type": "stream",
     "text": [
      "JSON data has been written to 'data.json'\n"
     ]
    }
   ],
   "source": [
    "import json\n",
    "\n",
    "file_path = \"data.json\"\n",
    "\n",
    "with open(file_path, 'w', encoding='utf-8') as json_file:\n",
    "    json.dump(data, json_file, ensure_ascii=False)\n",
    "\n",
    "print(f\"JSON data has been written to '{file_path}'\")"
   ]
  },
  {
   "cell_type": "code",
   "execution_count": null,
   "metadata": {},
   "outputs": [],
   "source": []
  }
 ],
 "metadata": {
  "kernelspec": {
   "display_name": "venv",
   "language": "python",
   "name": "python3"
  },
  "language_info": {
   "codemirror_mode": {
    "name": "ipython",
    "version": 3
   },
   "file_extension": ".py",
   "mimetype": "text/x-python",
   "name": "python",
   "nbconvert_exporter": "python",
   "pygments_lexer": "ipython3",
   "version": "3.10.12"
  },
  "orig_nbformat": 4
 },
 "nbformat": 4,
 "nbformat_minor": 2
}
